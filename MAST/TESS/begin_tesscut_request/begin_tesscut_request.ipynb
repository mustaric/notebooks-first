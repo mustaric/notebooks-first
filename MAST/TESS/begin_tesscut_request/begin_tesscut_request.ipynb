{
 "cells": [
  {
   "cell_type": "markdown",
   "metadata": {},
   "source": [
    "<a id=\"title_ID\"></a>\n",
    "# Cutout of the TESS Full Frame Image Time Series using Python Requests\n",
    "\n",
    "This notebook shows the user how to use the MAST programmatic interface to create a cutout of the small section of the TESS FFIs. For this example we will determine the RA and Dec for TOI 109.01, which is on TIC 29344935. We then perform a query to determine which sectors contain this RA and Dec, peform a cutout of the FFI time series, open the resulting target pixel files and plot the first image of each file with the WCS overlayed on the image.  \n",
    "\n",
    "This tutorial shows the users how to do the following: use astroquery.catalogs to query the TIC, use the python requests module to query the available sectors, and python requests to obtain a ffi cutout with tesscut.\n",
    "\n",
    "\n",
    "### Table of Contents \n",
    "  [Imports](#imports_ID) <br> \n",
    "  [Astroquery Search of the TIC](#catalog_ID) <br> \n",
    "  [Use Tesscut to get FFI Cutout](#tesscut_ID) <br>\n",
    "  [Additional Resources](#resources_ID) <br> \n",
    "  [About this Notebook](#about_ID) "
   ]
  },
  {
   "cell_type": "markdown",
   "metadata": {},
   "source": [
    "## Import statements for this notebook.\n",
    "<a id=\"imports_ID\"></a>"
   ]
  },
  {
   "cell_type": "code",
   "execution_count": 1,
   "metadata": {},
   "outputs": [],
   "source": [
    "import numpy as np\n",
    "from astropy.io import fits\n",
    "import requests\n",
    "from astroquery.mast import Catalogs\n",
    "import zipfile\n",
    "from astropy.wcs import WCS\n",
    "import matplotlib.pyplot as plt\n",
    "\n",
    "%matplotlib inline\n",
    "#Next line puts your mast api token in a useful variable for later.\n",
    "#See https://auth.mast.stsci.edu/info\n",
    "masttoken=%env MAST_API_TOKEN"
   ]
  },
  {
   "cell_type": "markdown",
   "metadata": {},
   "source": [
    "## Get RA and Dec of your target using Astroquery Catalogs\n",
    "<a id=\"catalog_ID\"></a>\n",
    "Here we use the astroquery.mast Catalogs query_criteria function to request the RA and Dec of for the object with TIC ID = 29344935. We collect the RA and Declination and store them in their own variables.  For good measure, we print out some of the resulting values from the catalog search in a table.  \n",
    "<p>\n",
    "Note, that the catalog name is \"Tic\". This specific capitalization is required for this to work."
   ]
  },
  {
   "cell_type": "code",
   "execution_count": 2,
   "metadata": {},
   "outputs": [
    {
     "data": {
      "text/html": [
       "<i>Row index=0 masked=True</i>\n",
       "<table id=\"table4771979728\">\n",
       "<thead><tr><th>ID</th><th>Jmag</th><th>ra</th><th>dec</th><th>objType</th></tr></thead>\n",
       "<thead><tr><th>str8</th><th>float64</th><th>float64</th><th>float64</th><th>str4</th></tr></thead>\n",
       "<tr><td>25155310</td><td>9.962</td><td>63.37389</td><td>-69.226789</td><td>STAR</td></tr>\n",
       "</table>"
      ],
      "text/plain": [
       "<Row index=0 masked=True>\n",
       "   ID      Jmag     ra       dec     objType\n",
       "  str8   float64 float64   float64     str4 \n",
       "-------- ------- -------- ---------- -------\n",
       "25155310   9.962 63.37389 -69.226789    STAR"
      ]
     },
     "execution_count": 2,
     "metadata": {},
     "output_type": "execute_result"
    }
   ],
   "source": [
    "ticid=25155310\n",
    "rad_search=1/60 #radius in degrees\n",
    "catalogData=Catalogs.query_criteria(catalog=\"Tic\",ID=str(ticid))\n",
    "#catalogData = Catalogs.query_object(starName, radius=rad_search, catalog=\"TIC\")\n",
    "Ra=catalogData[0]['ra']\n",
    "Dec=catalogData[0]['dec']\n",
    "catalogData[0]['ID','Jmag','ra','dec','objType']"
   ]
  },
  {
   "cell_type": "markdown",
   "metadata": {},
   "source": [
    "## Use sector query to determine which TESS sectors have FFI data\n",
    "<a id=\"catalog_ID\"></a>\n",
    "Using the tess sector information service, we make a request to determine which sectors/cameras/CCDs contain data for this target. Remember that there is a set of FFIs for each Sector and those are broken up into 4 cameras which each have 4 CCDs.  We will do this with a radius=0 cone search to find only those FFI sets that contain the star of interest. You can make the query using a larger radius, which may matter if the star is near the edge of one of the CCDs.\n",
    "<p>\n",
    "Note, the request is returned in a json format. The 'results' key contains an array of dictionaries with the information we are looking for.  "
   ]
  },
  {
   "cell_type": "code",
   "execution_count": 3,
   "metadata": {},
   "outputs": [
    {
     "name": "stdout",
     "output_type": "stream",
     "text": [
      "application/json; charset=UTF-8\n"
     ]
    }
   ],
   "source": [
    "myparams={\"ra\":Ra, \"dec\":Dec, \"radius\":\"0m\"}\n",
    "url=\"https://mastdev.stsci.edu/tesscut/api/v0.1/sector\"\n",
    "\n",
    "requestData=requests.get(url=url,params=myparams)\n",
    "print(requestData.headers.get('content-type'))"
   ]
  },
  {
   "cell_type": "code",
   "execution_count": 4,
   "metadata": {},
   "outputs": [
    {
     "data": {
      "text/plain": [
       "[{'sectorName': 'tess-s0001-4-1', 'sector': '0001', 'camera': '4', 'ccd': '1'},\n",
       " {'sectorName': 'tess-s0002-4-2', 'sector': '0002', 'camera': '4', 'ccd': '2'}]"
      ]
     },
     "execution_count": 4,
     "metadata": {},
     "output_type": "execute_result"
    }
   ],
   "source": [
    "sectors=requestData.json()['results']\n",
    "sectors"
   ]
  },
  {
   "cell_type": "markdown",
   "metadata": {},
   "source": [
    "Each element of the array shows one set of sector, camer and CCD that has data for the requested region of sky. "
   ]
  },
  {
   "cell_type": "markdown",
   "metadata": {},
   "source": [
    "<a id=\"tesscut_id\"></a>\n",
    "## Request a 10 x 10 pixel timeseries of FFI cutouts around specified RA and Dec.\n",
    "This delivers a zipped file containing a cutout for each set of FFIs as listed above. It is also possible to request only one sector using the \"sector\" parameter."
   ]
  },
  {
   "cell_type": "code",
   "execution_count": 73,
   "metadata": {},
   "outputs": [
    {
     "name": "stdout",
     "output_type": "stream",
     "text": [
      "<Response [200]>\n",
      "application/zip\n"
     ]
    }
   ],
   "source": [
    "myparams={\"ra\":Ra, \"dec\":Dec, \"x\":21, \"y\":11, \n",
    "           \"units\":\"px\",\"sector\":\"All\"}\n",
    "header={'Authorization': \"token \"+masttoken}\n",
    "\n",
    "url=\"https://mastdev.stsci.edu/tesscut/api/v0.1/astrocut\"\n",
    "\n",
    "r=requests.get(url=url,params=myparams,headers=header)\n",
    "#Check the content type.\n",
    "print(r)\n",
    "print(r.headers.get('content-type'))"
   ]
  },
  {
   "cell_type": "code",
   "execution_count": 74,
   "metadata": {},
   "outputs": [
    {
     "data": {
      "text/plain": [
       "4264224"
      ]
     },
     "execution_count": 74,
     "metadata": {},
     "output_type": "execute_result"
    }
   ],
   "source": [
    "open('astrocut.zip', 'wb').write(r.content)"
   ]
  },
  {
   "cell_type": "markdown",
   "metadata": {},
   "source": [
    "### Open the zip file so we can see what is in the header of the two files.\n",
    "We use python's zipfile to unzip the file, but this could also be done using unzip from the command line.  "
   ]
  },
  {
   "cell_type": "code",
   "execution_count": 75,
   "metadata": {},
   "outputs": [
    {
     "name": "stdout",
     "output_type": "stream",
     "text": [
      "['tess-s0001-4-1_63.37389_-69.226789_11x21_astrocut.fits', 'tess-s0002-4-2_63.37389_-69.226789_11x21_astrocut.fits']\n"
     ]
    }
   ],
   "source": [
    "zipRef=zipfile.ZipFile('astrocut.zip','r')\n",
    "zipRef.extractall('.')\n",
    "zipRef.close()\n",
    "cutoutnames = zipRef.namelist()\n",
    "print(cutoutnames)"
   ]
  },
  {
   "cell_type": "markdown",
   "metadata": {},
   "source": [
    "### Inspect the contents of both files.\n",
    "Use the fits.info function to see the contents of the file. Notice that it has three extensions just like a target pixel file. Most of the interesting information is in the PIXELS extension."
   ]
  },
  {
   "cell_type": "code",
   "execution_count": 84,
   "metadata": {},
   "outputs": [
    {
     "name": "stdout",
     "output_type": "stream",
     "text": [
      "Filename: tess-s0001-4-1_63.37389_-69.226789_11x21_astrocut.fits\n",
      "No.    Name      Ver    Type      Cards   Dimensions   Format\n",
      "  0  PRIMARY       1 PrimaryHDU      54   ()      \n",
      "  1  PIXELS        1 BinTableHDU    244   1282R x 12C   [D, E, J, 231J, 231E, 231E, 231E, 231E, J, E, E, 38A]   \n",
      "  2  APERTURE      1 ImageHDU       143   (21, 11)   float64   \n"
     ]
    }
   ],
   "source": [
    "file1=cutoutnames[0]\n",
    "file2=cutoutnames[1]\n",
    "fits.setval(file1, 'TDIM4', value='(11,21)', ext=1)\n",
    "fits.setval(file1,'TDIM5', value='(11,21)', ext=1)\n",
    "fits.info(file1)"
   ]
  },
  {
   "cell_type": "code",
   "execution_count": 77,
   "metadata": {},
   "outputs": [
    {
     "name": "stdout",
     "output_type": "stream",
     "text": [
      "Filename: tess-s0001-4-1_63.37389_-69.226789_11x21_astrocut.fits\n",
      "No.    Name      Ver    Type      Cards   Dimensions   Format\n",
      "  0  PRIMARY       1 PrimaryHDU      54   ()      \n",
      "  1  PIXELS        1 BinTableHDU    244   1282R x 12C   [D, E, J, 231J, 231E, 231E, 231E, 231E, J, E, E, 38A]   \n",
      "  2  APERTURE      1 ImageHDU       143   (21, 11)   float64   \n"
     ]
    }
   ],
   "source": [
    "fits.info(file1)"
   ]
  },
  {
   "cell_type": "code",
   "execution_count": 85,
   "metadata": {},
   "outputs": [
    {
     "data": {
      "text/plain": [
       "XTENSION= 'BINTABLE'           / binary table extension                         \n",
       "BITPIX  =                    8 / array data type                                \n",
       "NAXIS   =                    2 / number of array dimensions                     \n",
       "NAXIS1  =                 4686 / length of dimension 1                          \n",
       "NAXIS2  =                 1282 / length of dimension 2                          \n",
       "PCOUNT  =                    0 / number of group parameters                     \n",
       "GCOUNT  =                    1 / number of groups                               \n",
       "TFIELDS =                   12 / number of table fields                         \n",
       "TTYPE1  = 'TIME    '           / column name                                    \n",
       "TFORM1  = 'D       '           / column format                                  \n",
       "TUNIT1  = 'BJD - 2457000, days' / unit                                          \n",
       "TDISP1  = 'D14.7   '           / display format                                 \n",
       "TTYPE2  = 'TIMECORR'           / column name                                    \n",
       "TFORM2  = 'E       '           / column format                                  \n",
       "TUNIT2  = 'd       '           / unit                                           \n",
       "TDISP2  = 'E14.7   '           / display format                                 \n",
       "TTYPE3  = 'CADENCENO'          / column name                                    \n",
       "TFORM3  = 'J       '           / column format                                  \n",
       "TDISP3  = 'I10     '           / display format                                 \n",
       "TTYPE4  = 'RAW_CNTS'           / column name                                    \n",
       "TFORM4  = '231J    '           / column format                                  \n",
       "TUNIT4  = 'count   '           / unit                                           \n",
       "TNULL4  =                   -1 / null value                                     \n",
       "TDISP4  = 'I8      '           / display format                                 \n",
       "TDIM4   = '(11,21) '           / multi-dimensional array spec                   \n",
       "WCAX4   =                    2 / number of WCS axes                             \n",
       "1CTYP4  = 'RA---TAN-SIP'       / right ascension coordinate type                \n",
       "2CTYP4  = 'DEC--TAN-SIP'       / declination coordinate type                    \n",
       "1CRPX4  =               -572.0 / [pixel] reference pixel along image axis 1     \n",
       "2CRPX4  =                619.0 / [pixel] reference pixel along image axis 2     \n",
       "1CRVL4  =      68.403938293457 / [deg] right ascension at reference pixel       \n",
       "2CRVL4  =   -64.81436157226599 / [deg] declination at reference pixel           \n",
       "1CUNI4  = 'deg     '           / physical unit in column dimension              \n",
       "2CUNI4  = 'deg     '           / physical unit in row dimension                 \n",
       "1CDLT4  = 0.005705751135872963 / [deg] pixel scale in RA dimension              \n",
       "2CDLT4  = 0.005707230909260211 / [deg] pixel scale in DEC dimension             \n",
       "11PC4   =                    1 / linear transformation matrix element - unfilled\n",
       "12PC4   =                    1 / linear transformation matrix element - unfilled\n",
       "21PC4   =                    1 / linear transformation matrix element - unfilled\n",
       "22PC4   =                    1 / linear transformation matrix element - unfilled\n",
       "WCSN4P  = 'PHYSICAL'           / table column WCS name                          \n",
       "WCAX4P  =                    2 / table column physical WCS dimensions           \n",
       "1CTY4P  = 'RAWX    '           / table column physical WCS axis 1 type, CCD col \n",
       "2CTY4P  = 'RAWY    '           / table column physical WCS axis 2 type, CCD row \n",
       "1CUN4P  = 'PIXEL   '           / table column physical WCS axis 1 unit          \n",
       "2CUN4P  = 'PIXEL   '           / table column physical WCS axis 2 unit          \n",
       "1CRV4P  =                 1618 / table column physical WCS ax 1 ref value       \n",
       "2CRV4P  =                  383 / table column physical WCS ax 2 ref value       \n",
       "1CDL4P  =                  1.0 / table column physical WCS a1 step              \n",
       "2CDL4P  =                  1.0 / table column physical WCS a2 step              \n",
       "1CRP4P  =                    1 / table column physical WCS a1 reference         \n",
       "2CRP4P  =                    1 / table column physical WCS a2 reference         \n",
       "TTYPE5  = 'FLUX    '           / column name                                    \n",
       "TFORM5  = '231E    '           / column format                                  \n",
       "TUNIT5  = 'e-/s    '           / unit                                           \n",
       "TDISP5  = 'E14.7   '           / display format                                 \n",
       "TDIM5   = '(11,21) '           / multi-dimensional array spec                   \n",
       "WCAX5   =                    2 / number of WCS axes                             \n",
       "1CTYP5  = 'RA---TAN-SIP'       / right ascension coordinate type                \n",
       "2CTYP5  = 'DEC--TAN-SIP'       / declination coordinate type                    \n",
       "1CRPX5  =               -572.0 / [pixel] reference pixel along image axis 1     \n",
       "2CRPX5  =                619.0 / [pixel] reference pixel along image axis 2     \n",
       "1CRVL5  =      68.403938293457 / [deg] right ascension at reference pixel       \n",
       "2CRVL5  =   -64.81436157226599 / [deg] declination at reference pixel           \n",
       "1CUNI5  = 'deg     '           / physical unit in column dimension              \n",
       "2CUNI5  = 'deg     '           / physical unit in row dimension                 \n",
       "1CDLT5  = 0.005705751135872963 / [deg] pixel scale in RA dimension              \n",
       "2CDLT5  = 0.005707230909260211 / [deg] pixel scale in DEC dimension             \n",
       "11PC5   =                    1 / linear transformation matrix element - unfilled\n",
       "12PC5   =                    1 / linear transformation matrix element - unfilled\n",
       "21PC5   =                    1 / linear transformation matrix element - unfilled\n",
       "22PC5   =                    1 / linear transformation matrix element - unfilled\n",
       "WCSN5P  = 'PHYSICAL'           / table column WCS name                          \n",
       "WCAX5P  =                    2 / table column physical WCS dimensions           \n",
       "1CTY5P  = 'RAWX    '           / table column physical WCS axis 1 type, CCD col \n",
       "2CTY5P  = 'RAWY    '           / table column physical WCS axis 2 type, CCD row \n",
       "1CUN5P  = 'PIXEL   '           / table column physical WCS axis 1 unit          \n",
       "2CUN5P  = 'PIXEL   '           / table column physical WCS axis 2 unit          \n",
       "1CRV5P  =                 1618 / table column physical WCS ax 1 ref value       \n",
       "2CRV5P  =                  383 / table column physical WCS ax 2 ref value       \n",
       "1CDL5P  =                  1.0 / table column physical WCS a1 step              \n",
       "2CDL5P  =                  1.0 / table column physical WCS a2 step              \n",
       "1CRP5P  =                    1 / table column physical WCS a1 reference         \n",
       "2CRP5P  =                    1 / table column physical WCS a2 reference         \n",
       "TTYPE6  = 'FLUX_ERR'           / column name                                    \n",
       "TFORM6  = '231E    '           / column format                                  \n",
       "TUNIT6  = 'e-/s    '           / unit                                           \n",
       "TDISP6  = 'E14.7   '           / display format                                 \n",
       "TDIM6   = '(21, 11)'           / multi-dimensional array spec                   \n",
       "WCAX6   =                    2 / number of WCS axes                             \n",
       "1CTYP6  = 'RA---TAN-SIP'       / right ascension coordinate type                \n",
       "2CTYP6  = 'DEC--TAN-SIP'       / declination coordinate type                    \n",
       "1CRPX6  =               -572.0 / [pixel] reference pixel along image axis 1     \n",
       "2CRPX6  =                619.0 / [pixel] reference pixel along image axis 2     \n",
       "1CRVL6  =      68.403938293457 / [deg] right ascension at reference pixel       \n",
       "2CRVL6  =   -64.81436157226599 / [deg] declination at reference pixel           \n",
       "1CUNI6  = 'deg     '           / physical unit in column dimension              \n",
       "2CUNI6  = 'deg     '           / physical unit in row dimension                 \n",
       "1CDLT6  = 0.005705751135872963 / [deg] pixel scale in RA dimension              \n",
       "2CDLT6  = 0.005707230909260211 / [deg] pixel scale in DEC dimension             \n",
       "11PC6   =                    1 / linear transformation matrix element - unfilled\n",
       "12PC6   =                    1 / linear transformation matrix element - unfilled\n",
       "21PC6   =                    1 / linear transformation matrix element - unfilled\n",
       "22PC6   =                    1 / linear transformation matrix element - unfilled\n",
       "WCSN6P  = 'PHYSICAL'           / table column WCS name                          \n",
       "WCAX6P  =                    2 / table column physical WCS dimensions           \n",
       "1CTY6P  = 'RAWX    '           / table column physical WCS axis 1 type, CCD col \n",
       "2CTY6P  = 'RAWY    '           / table column physical WCS axis 2 type, CCD row \n",
       "1CUN6P  = 'PIXEL   '           / table column physical WCS axis 1 unit          \n",
       "2CUN6P  = 'PIXEL   '           / table column physical WCS axis 2 unit          \n",
       "1CRV6P  =                 1618 / table column physical WCS ax 1 ref value       \n",
       "2CRV6P  =                  383 / table column physical WCS ax 2 ref value       \n",
       "1CDL6P  =                  1.0 / table column physical WCS a1 step              \n",
       "2CDL6P  =                  1.0 / table column physical WCS a2 step              \n",
       "1CRP6P  =                    1 / table column physical WCS a1 reference         \n",
       "2CRP6P  =                    1 / table column physical WCS a2 reference         \n",
       "TTYPE7  = 'FLUX_BKG'           / column name                                    \n",
       "TFORM7  = '231E    '           / column format                                  \n",
       "TUNIT7  = 'e-/s    '           / unit                                           \n",
       "TDISP7  = 'E14.7   '           / display format                                 \n",
       "TDIM7   = '(21, 11)'           / multi-dimensional array spec                   \n",
       "WCAX7   =                    2 / number of WCS axes                             \n",
       "1CTYP7  = 'RA---TAN-SIP'       / right ascension coordinate type                \n",
       "2CTYP7  = 'DEC--TAN-SIP'       / declination coordinate type                    \n",
       "1CRPX7  =               -572.0 / [pixel] reference pixel along image axis 1     \n",
       "2CRPX7  =                619.0 / [pixel] reference pixel along image axis 2     \n",
       "1CRVL7  =      68.403938293457 / [deg] right ascension at reference pixel       \n",
       "2CRVL7  =   -64.81436157226599 / [deg] declination at reference pixel           \n",
       "1CUNI7  = 'deg     '           / physical unit in column dimension              \n",
       "2CUNI7  = 'deg     '           / physical unit in row dimension                 \n",
       "1CDLT7  = 0.005705751135872963 / [deg] pixel scale in RA dimension              \n",
       "2CDLT7  = 0.005707230909260211 / [deg] pixel scale in DEC dimension             \n",
       "11PC7   =                    1 / linear transformation matrix element - unfilled\n",
       "12PC7   =                    1 / linear transformation matrix element - unfilled\n",
       "21PC7   =                    1 / linear transformation matrix element - unfilled\n",
       "22PC7   =                    1 / linear transformation matrix element - unfilled\n",
       "WCSN7P  = 'PHYSICAL'           / table column WCS name                          \n",
       "WCAX7P  =                    2 / table column physical WCS dimensions           \n",
       "1CTY7P  = 'RAWX    '           / table column physical WCS axis 1 type, CCD col \n",
       "2CTY7P  = 'RAWY    '           / table column physical WCS axis 2 type, CCD row \n",
       "1CUN7P  = 'PIXEL   '           / table column physical WCS axis 1 unit          \n",
       "2CUN7P  = 'PIXEL   '           / table column physical WCS axis 2 unit          \n",
       "1CRV7P  =                 1618 / table column physical WCS ax 1 ref value       \n",
       "2CRV7P  =                  383 / table column physical WCS ax 2 ref value       \n",
       "1CDL7P  =                  1.0 / table column physical WCS a1 step              \n",
       "2CDL7P  =                  1.0 / table column physical WCS a2 step              \n",
       "1CRP7P  =                    1 / table column physical WCS a1 reference         \n",
       "2CRP7P  =                    1 / table column physical WCS a2 reference         \n",
       "TTYPE8  = 'FLUX_BKG_ERR'       / column name                                    \n",
       "TFORM8  = '231E    '           / column format                                  \n",
       "TUNIT8  = 'e-/s    '           / unit                                           \n",
       "TDISP8  = 'E14.7   '           / display format                                 \n",
       "TDIM8   = '(21, 11)'           / multi-dimensional array spec                   \n",
       "WCAX8   =                    2 / number of WCS axes                             \n",
       "1CTYP8  = 'RA---TAN-SIP'       / right ascension coordinate type                \n",
       "2CTYP8  = 'DEC--TAN-SIP'       / declination coordinate type                    \n",
       "1CRPX8  =               -572.0 / [pixel] reference pixel along image axis 1     \n",
       "2CRPX8  =                619.0 / [pixel] reference pixel along image axis 2     \n",
       "1CRVL8  =      68.403938293457 / [deg] right ascension at reference pixel       \n",
       "2CRVL8  =   -64.81436157226599 / [deg] declination at reference pixel           \n",
       "1CUNI8  = 'deg     '           / physical unit in column dimension              \n",
       "2CUNI8  = 'deg     '           / physical unit in row dimension                 \n",
       "1CDLT8  = 0.005705751135872963 / [deg] pixel scale in RA dimension              \n",
       "2CDLT8  = 0.005707230909260211 / [deg] pixel scale in DEC dimension             \n",
       "11PC8   =                    1 / linear transformation matrix element - unfilled\n",
       "12PC8   =                    1 / linear transformation matrix element - unfilled\n",
       "21PC8   =                    1 / linear transformation matrix element - unfilled\n",
       "22PC8   =                    1 / linear transformation matrix element - unfilled\n",
       "WCSN8P  = 'PHYSICAL'           / table column WCS name                          \n",
       "WCAX8P  =                    2 / table column physical WCS dimensions           \n",
       "1CTY8P  = 'RAWX    '           / table column physical WCS axis 1 type, CCD col \n",
       "2CTY8P  = 'RAWY    '           / table column physical WCS axis 2 type, CCD row \n",
       "1CUN8P  = 'PIXEL   '           / table column physical WCS axis 1 unit          \n",
       "2CUN8P  = 'PIXEL   '           / table column physical WCS axis 2 unit          \n",
       "1CRV8P  =                 1618 / table column physical WCS ax 1 ref value       \n",
       "2CRV8P  =                  383 / table column physical WCS ax 2 ref value       \n",
       "1CDL8P  =                  1.0 / table column physical WCS a1 step              \n",
       "2CDL8P  =                  1.0 / table column physical WCS a2 step              \n",
       "1CRP8P  =                    1 / table column physical WCS a1 reference         \n",
       "2CRP8P  =                    1 / table column physical WCS a2 reference         \n",
       "TTYPE9  = 'QUALITY '           / column name                                    \n",
       "TFORM9  = 'J       '           / column format                                  \n",
       "TDISP9  = 'B16.16  '           / display format                                 \n",
       "TTYPE10 = 'POS_CORR1'          / column name                                    \n",
       "TFORM10 = 'E       '           / column format                                  \n",
       "TUNIT10 = 'pixel   '           / unit                                           \n",
       "TDISP10 = 'E14.7   '           / display format                                 \n",
       "TTYPE11 = 'POS_CORR2'          / column name                                    \n",
       "TFORM11 = 'E       '           / column format                                  \n",
       "TUNIT11 = 'pixel   '           / unit                                           \n",
       "TDISP11 = 'E14.7   '           / display format                                 \n",
       "TTYPE12 = 'FFI_FILE'           / column name                                    \n",
       "TFORM12 = '38A     '           / column format                                  \n",
       "TUNIT12 = 'pixel   '           / unit                                           \n",
       "EXTNAME = 'PIXELS  '                                                            \n",
       "INHERIT =                    T                                                  \n",
       "EXTVER  =                    1 / extension version number (not format version)  \n",
       "SIMDATA =                    F / file is based on simulated data                \n",
       "ORIGIN  = 'STScI/MAST'         / institution responsible for creating this file \n",
       "DATE    = '2018-10-24'         / file creation date.                            \n",
       "TSTART  =    1325.313100604524 / observation start time in TJD                  \n",
       "TSTOP   =    1353.167256127407 / observation stop time in TJD                   \n",
       "DATE-OBS= '2018-07-25T19:29:42.708Z' / TSTART as UTC calendar date              \n",
       "DATE-END= '2018-08-22T15:59:41.745Z' / TSTOP as UTC calendar date               \n",
       "CREATOR = '112 FfiExporter'    / pipeline job and program used to produce this f\n",
       "PROCVER = 'spoc-3.3.31-20180902' / SW version                                   \n",
       "FILEVER = '1.0     '           / file format version                            \n",
       "TIMVERSN= 'OGIP/93-003'        / OGIP memo number for file format               \n",
       "TELESCOP= 'TESS    '           / telescope                                      \n",
       "INSTRUME= 'TESS Photometer'    / detector type                                  \n",
       "DATA_REL=                    1 / data release version number                    \n",
       "ASTATE  =                    T / archive state F indicates single orbit processi\n",
       "SCCONFIG=                  120 / spacecraft configuration ID                    \n",
       "RADESYS = 'ICRS    '           / reference frame of celestial coordinates       \n",
       "EQUINOX =               2000.0 / equinox of celestial coordinate system         \n",
       "CRMITEN =                    T / spacecraft cosmic ray mitigation enabled       \n",
       "CRBLKSZ =                   10 / [exposures] s/c cosmic ray mitigation block siz\n",
       "CRSPOC  =                    F / SPOC cosmic ray cleaning enabled               \n",
       "SECTOR  = '' / Observing sector                                                 \n",
       "CAMERA  =                    4 / Camera number                                  \n",
       "CCD     =                    1 / CCD chip number                                \n",
       "RA_OBJ  =             63.37389 / [deg] right ascension                          \n",
       "DEC_OBJ =           -69.226789 / [deg] declination                              \n",
       "TIMEREF = 'SOLARSYSTEM'        / barycentric correction applied to times        \n",
       "TASSIGN = 'SPACECRAFT'         / where time is assigned                         \n",
       "TIMESYS = 'TDB     '           / time system is Barycentric Dynamical Time (TDB)\n",
       "BJDREFI =              2457000 / integer part of BTJD reference date            \n",
       "BJDREFF =                  0.0 / fraction of the day in BTJD reference date     \n",
       "TIMEUNIT= 'd       '           / time unit for TIME, TSTART and TSTOP           \n",
       "TELAPSE =    27.85415552288305 / [d] TSTOP - TSTART                             \n",
       "OBJECT  = '' / string version of target id                                      \n",
       "TCID    =                    0 / unique tess target identifier                  \n",
       "PXTABLE =                    0 / pixel table id                                 \n",
       "PMRA    =                  0.0 / [mas/yr] RA proper motion                      \n",
       "PMDEC   =                  0.0 / [mas/yr] Dec proper motion                     \n",
       "PMTOTAL =                  0.0 / [mas/yr] total proper motion                   \n",
       "TESSMAG =                  0.0 / [mag] TESS magnitude                           \n",
       "TEFF    =                  0.0 / [K] Effective temperature                      \n",
       "LOGG    =                  0.0 / [cm/s2] log10 surface gravity                  \n",
       "MH      =                  0.0 / [log10([M/H])] metallicity                     \n",
       "RADIUS  =                  0.0 / [solar radii] stellar radius                   \n",
       "TICVER  =                    0 / TICVER                                         \n",
       "CHECKSUM= 'G9cfG6bcG6bcG6bc'   / HDU checksum updated 2018-11-13T21:14:22       \n",
       "DATASUM = '4123982833'         / data unit checksum updated 2018-11-13T21:14:22 "
      ]
     },
     "execution_count": 85,
     "metadata": {},
     "output_type": "execute_result"
    }
   ],
   "source": [
    "hdu1=fits.open(file1)\n",
    "hdu1[1].header"
   ]
  },
  {
   "cell_type": "markdown",
   "metadata": {},
   "source": [
    "### Compare the time for the start of observation for both files.\n",
    "Since one is from Sector 1 and the other is from Sector 2, these are approximately a month a part. "
   ]
  },
  {
   "cell_type": "code",
   "execution_count": 86,
   "metadata": {},
   "outputs": [
    {
     "name": "stdout",
     "output_type": "stream",
     "text": [
      "File 1 Start Time: 2018-07-25T19:29:42.708Z\n",
      "File 2 Start Time: 2018-08-23T14:29:41.724Z\n",
      "(21, 11)\n",
      "(11, 21)\n"
     ]
    }
   ],
   "source": [
    "hdu2=fits.open(file2)\n",
    "print(\"File 1 Start Time: \" + hdu1[0].header['DATE-OBS'])\n",
    "print(\"File 2 Start Time: \" + hdu2[0].header['DATE-OBS'])\n",
    "print(np.shape(hdu1[1].data[0]['FLUX']))\n",
    "print(np.shape(hdu1[2].data))"
   ]
  },
  {
   "cell_type": "markdown",
   "metadata": {},
   "source": [
    "<a id=\"plot_image\"></a>\n",
    "## Plot the First Image of the First Sector of Data\n",
    "\n",
    "We use the WCS in the header to place a red dot on the image for the catalog position of the star on the figure as a demonstration of the WCS. Remember that the WCS is based on the WCS stored in the FFI file for the central part of the time series and there can be some motion during a sector of observation. "
   ]
  },
  {
   "cell_type": "code",
   "execution_count": 91,
   "metadata": {},
   "outputs": [
    {
     "data": {
      "text/plain": [
       "<matplotlib.collections.PathCollection at 0x11e529588>"
      ]
     },
     "execution_count": 91,
     "metadata": {},
     "output_type": "execute_result"
    },
    {
     "data": {
      "image/png": "[encoded data removed]",
      "text/plain": [
       "<Figure size 576x576 with 1 Axes>"
      ]
     },
     "metadata": {
      "needs_background": "light"
     },
     "output_type": "display_data"
    }
   ],
   "source": [
    "first_image=hdu1[1].data['FLUX'][0]\n",
    "wcs=WCS(hdu1[2].header)\n",
    "\n",
    "fig = plt.figure(figsize=(8,8))\n",
    "fig.clf()\n",
    "#fig.add_subplot(111, projection=wcs)\n",
    "plt.imshow(first_image, origin='lower', cmap=plt.cm.viridis)\n",
    "#plt.imshow(first_image.reshape(np.shape(first_image)[::-1]), origin='lower', cmap=plt.cm.viridis)\n",
    "plt.xlabel('CCD Column',fontsize=14)\n",
    "plt.ylabel('CCD Row',fontsize=14)\n",
    "plt.grid(axis='both',color='white', ls='solid')\n",
    "\n",
    "starloc=wcs.all_world2pix([[Ra,Dec]],0)  #Second is origin\n",
    "plt.scatter(starloc[0,0],starloc[0,1],s=45,color='red')"
   ]
  },
  {
   "cell_type": "code",
   "execution_count": 81,
   "metadata": {},
   "outputs": [
    {
     "name": "stdout",
     "output_type": "stream",
     "text": [
      "21\n",
      "11\n"
     ]
    },
    {
     "data": {
      "image/png": "[encoded data removed]",
      "text/plain": [
       "<Figure size 432x288 with 1 Axes>"
      ]
     },
     "metadata": {
      "needs_background": "light"
     },
     "output_type": "display_data"
    }
   ],
   "source": [
    "tpfile=\"https://archive.stsci.edu/hlsps/tess-data-alerts/hlsp_tess-data-alerts_tess_phot_00025155310-s01_tess_v1_tp.fits\"\n",
    "tpfile=\"https://archive.stsci.edu/hlsps/tess-data-alerts/hlsp_tess-data-alerts_tess_phot_00092352620-s01_tess_v1_tp.fits\"\n",
    "tpfile=\"https://archive.stsci.edu/hlsps/tess-data-alerts/hlsp_tess-data-alerts_tess_phot_00261136679-s01_tess_v1_tp.fits\"\n",
    "tphdu=fits.open(tpfile)\n",
    "\n",
    "tpimage=tphdu[1].data['FLUX'][10]\n",
    "\n",
    "\n",
    "plt.figure()\n",
    "plt.imshow(tpimage,origin='lower')\n",
    "print(tphdu[2].header['NAXIS2'])\n",
    "print(hdu1[2].header['NAXIS2'])"
   ]
  },
  {
   "cell_type": "markdown",
   "metadata": {},
   "source": [
    "<a id=\"resources_ID\"></a>\n",
    "## Additional Resources\n",
    "[TESScut API Documentation](https://mast.stsci.edu/tesscut/)<br>\n",
    "[Astrocut Documentation](https://astrocut.readthedocs.io/en/latest/)<br>\n",
    "[TESS Homepage](https://archive.stsci.edu/tess)\n"
   ]
  },
  {
   "cell_type": "markdown",
   "metadata": {},
   "source": [
    "<a id=\"about_ID\"></a>\n",
    "## About this Notebook\n",
    "**Author:** Susan E. Mullally, STScI Archive Scientist\n",
    "<br>**Updated On:** 2018-11-13"
   ]
  },
  {
   "cell_type": "markdown",
   "metadata": {},
   "source": [
    "[Top of Page](#title_ID)\n",
    "<img style=\"float: right;\" src=\"./stsci_pri_combo_mark_horizonal_white_bkgd.png\" alt=\"stsci_pri_combo_mark_horizonal_white_bkgd\" width=\"200px\"/> "
   ]
  }
 ],
 "metadata": {
  "kernelspec": {
   "display_name": "Python 3",
   "language": "python",
   "name": "python3"
  },
  "language_info": {
   "codemirror_mode": {
    "name": "ipython",
    "version": 3
   },
   "file_extension": ".py",
   "mimetype": "text/x-python",
   "name": "python",
   "nbconvert_exporter": "python",
   "pygments_lexer": "ipython3",
   "version": "3.6.1"
  }
 },
 "nbformat": 4,
 "nbformat_minor": 2
}
