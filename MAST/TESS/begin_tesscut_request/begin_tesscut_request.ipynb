{
 "cells": [
  {
   "cell_type": "markdown",
   "metadata": {},
   "source": [
    "<a id=\"title_ID\"></a>\n",
    "# Make a cutout of the TESS Full Frame Image Time Series\n",
    "\n",
    "This notebook shows the user how to use the MAST programmatic interface to create a cutout of the small section of the TESS FFIs. For this example we will determine the RA and Dec for TOI 109.01, which is on TIC 29344935. We then perform a query to determine which sectors contain this RA and Dec, peform a cutout of the FFI time series, open the resulting target pixel files and plot the first image of each file with the WCS overlayed on the image.  \n",
    "\n",
    "This tutorial shows the users how to do the following: use astroquery.catalogs to query the TIC, use the python requests module to query the available sectors, and python requests to obtain a ffi cutout with tesscut.\n",
    "\n",
    "\n",
    "### Table of Contents \n",
    "  [Imports](#imports_ID) <br> \n",
    "  [Astroquery Search of the TIC](#catalog_ID) <br> \n",
    "  [Use Tesscut to get FFI Cutout](#tesscut_ID) <br>\n",
    "  [Additional Resources](#resources_ID) <br> \n",
    "  [About this Notebook](#about_ID) "
   ]
  },
  {
   "cell_type": "markdown",
   "metadata": {},
   "source": [
    "## Import statements for this notebook.\n",
    "<a id=\"imports_ID\"></a>"
   ]
  },
  {
   "cell_type": "code",
   "execution_count": null,
   "metadata": {},
   "outputs": [],
   "source": [
    "import numpy as np\n",
    "from astropy.io import fits\n",
    "import requests\n",
    "from astroquery.mast import Catalogs\n",
    "import zipfile\n",
    "from astropy.wcs import WCS\n",
    "import matplotlib.pyplot as plt\n",
    "\n",
    "%matplotlib inline\n",
    "#Next line puts your mast api token in a useful variable for later.\n",
    "#See https://auth.mast.stsci.edu/info\n",
    "masttoken=%env MAST_API_TOKEN"
   ]
  },
  {
   "cell_type": "markdown",
   "metadata": {},
   "source": [
    "## Get RA and Dec of your target using Astroquery Catalogs\n",
    "<a id=\"catalog_ID\"></a>\n",
    "Here we use the astroquery.mast Catalogs query_criteria function to request the RA and Dec of for the object with TIC ID = 29344935. We collect the RA and Declination and store them in their own variables.  For good measure, we print out some of the resulting values from the catalog search in a table.  \n",
    "<p>\n",
    "Note, that the catalog name is \"Tic\". This specific capitalization is required for this to work."
   ]
  },
  {
   "cell_type": "code",
   "execution_count": null,
   "metadata": {},
   "outputs": [],
   "source": [
    "ticid=25155310\n",
    "rad_search=1/60 #radius in degrees\n",
    "catalogData=Catalogs.query_criteria(catalog=\"Tic\",ID=str(ticid))\n",
    "#catalogData = Catalogs.query_object(starName, radius=rad_search, catalog=\"TIC\")\n",
    "Ra=catalogData[0]['ra']\n",
    "Dec=catalogData[0]['dec']\n",
    "catalogData[0]['ID','Jmag','ra','dec','objType']"
   ]
  },
  {
   "cell_type": "markdown",
   "metadata": {},
   "source": [
    "## Use sector query to determine which TESS sectors have FFI data\n",
    "<a id=\"catalog_ID\"></a>\n",
    "Using the tess sector information service, we make a request to determine which sectors/cameras/CCDs contain data for this target. Remember that there is a set of FFIs for each Sector and those are broken up into 4 cameras which each have 4 CCDs.  We will do this with a radius=0 cone search to find only those FFI sets that contain the star of interest. You can make the query using a larger radius, which may matter if the star is near the edge of one of the CCDs.\n",
    "<p>\n",
    "Note, the request is returned in a json format. The 'results' key contains an array of dictionaries with the information we are looking for.  "
   ]
  },
  {
   "cell_type": "code",
   "execution_count": null,
   "metadata": {},
   "outputs": [],
   "source": [
    "myparams={\"ra\":Ra, \"dec\":Dec, \"radius\":\"0m\"}\n",
    "url=\"https://mastdev.stsci.edu/tesscut/api/v0.1/sector\"\n",
    "\n",
    "requestData=requests.get(url=url,params=myparams)\n",
    "print(requestData.headers.get('content-type'))"
   ]
  },
  {
   "cell_type": "code",
   "execution_count": null,
   "metadata": {},
   "outputs": [],
   "source": [
    "sectors=requestData.json()['results']\n",
    "sectors"
   ]
  },
  {
   "cell_type": "markdown",
   "metadata": {},
   "source": [
    "Each element of the array shows one set of sector, camer and CCD that has data for the requested region of sky. "
   ]
  },
  {
   "cell_type": "markdown",
   "metadata": {},
   "source": [
    "<a id=\"tesscut_id\"></a>\n",
    "## Request a 10 x 10 pixel timeseries of FFI cutouts around specified RA and Dec.\n",
    "This delivers a zipped file containing a cutout for each set of FFIs as listed above. It is also possible to request only one sector using the \"sector\" parameter."
   ]
  },
  {
   "cell_type": "code",
   "execution_count": null,
   "metadata": {},
   "outputs": [],
   "source": [
    "print(Ra)\n",
    "print(Dec)\n",
    "myparams={\"ra\":Ra, \"dec\":Dec, \"x\":10, \"y\":10, \n",
    "           \"units\":\"px\",\"sector\":\"All\"}\n",
    "header={'Authorization': \"token \"+masttoken}\n",
    "\n",
    "url=\"https://mastdev.stsci.edu/tesscut/api/v0.1/astrocut\"\n",
    "\n",
    "r=requests.get(url=url,params=myparams,headers=header)\n",
    "#Check the content type.\n",
    "print(r)\n",
    "print(r.headers.get('content-type'))"
   ]
  },
  {
   "cell_type": "code",
   "execution_count": null,
   "metadata": {},
   "outputs": [],
   "source": [
    "open('astrocut.zip', 'wb').write(r.content)"
   ]
  },
  {
   "cell_type": "markdown",
   "metadata": {},
   "source": [
    "### Open the zip file so we can see what is in the header of the two files.\n",
    "We use python's zipfile to unzip the file, but this could also be done using unzip from the command line.  "
   ]
  },
  {
   "cell_type": "code",
   "execution_count": null,
   "metadata": {},
   "outputs": [],
   "source": [
    "zipRef=zipfile.ZipFile('astrocut.zip','r')\n",
    "zipRef.extractall('.')\n",
    "zipRef.close()\n",
    "cutoutnames = zipRef.namelist()\n",
    "print(cutoutnames)"
   ]
  },
  {
   "cell_type": "markdown",
   "metadata": {},
   "source": [
    "### Inspect the contents of both files.\n",
    "Use the fits.info function to see the contents of the file. Notice that it has three extensions just like a target pixel file. Most of the interesting information is in the PIXELS extension."
   ]
  },
  {
   "cell_type": "code",
   "execution_count": null,
   "metadata": {},
   "outputs": [],
   "source": [
    "file1=cutoutnames[0]\n",
    "#file1=\"/Users/smullally/Downloads/tess-s0001-4-2_84.29119_-80.46917_4x20_astrocut.fits\"\n",
    "file2=cutoutnames[1]\n",
    "fits.info(file1)"
   ]
  },
  {
   "cell_type": "code",
   "execution_count": null,
   "metadata": {},
   "outputs": [],
   "source": [
    "fits.info(file1)"
   ]
  },
  {
   "cell_type": "code",
   "execution_count": null,
   "metadata": {},
   "outputs": [],
   "source": [
    "hdu1=fits.open(file1)\n",
    "hdu1[0].header"
   ]
  },
  {
   "cell_type": "markdown",
   "metadata": {},
   "source": [
    "### Compare the time for the start of observation for both files.\n",
    "Since one is from Sector 1 and the other is from Sector 2, these are approximately a month a part. "
   ]
  },
  {
   "cell_type": "code",
   "execution_count": null,
   "metadata": {},
   "outputs": [],
   "source": [
    "hdu2=fits.open(file2)\n",
    "print(\"File 1 Start Time: \" + hdu1[0].header['DATE-OBS'])\n",
    "print(\"File 2 Start Time: \" + hdu2[0].header['DATE-OBS'])"
   ]
  },
  {
   "cell_type": "markdown",
   "metadata": {},
   "source": [
    "<a id=\"plot_image\"></a>\n",
    "## Plot the First Image of the First Sector of Data\n",
    "\n",
    "We use the WCS in the header to place a red dot on the image for the catalog position of the star on the figure as a demonstration of the WCS. Remember that the WCS is based on the WCS stored in the FFI file for the central part of the time series and there can be some motion during a sector of observation. "
   ]
  },
  {
   "cell_type": "code",
   "execution_count": null,
   "metadata": {},
   "outputs": [],
   "source": [
    "first_image=hdu1[1].data['FLUX'][0]\n",
    "wcs=WCS(hdu1[2].header)\n",
    "\n",
    "fig = plt.figure(figsize=(8,8))\n",
    "#fig.add_subplot(111, projection=wcs)\n",
    "plt.imshow(first_image, origin='lower', cmap=plt.cm.viridis)\n",
    "plt.xlabel('CCD Column',fontsize=14)\n",
    "plt.ylabel('CCD Row',fontsize=14)\n",
    "plt.grid(axis='both',color='white', ls='solid')\n",
    "\n",
    "starloc=wcs.all_world2pix([[Ra,Dec]],0)  #Second is origin\n",
    "plt.scatter(starloc[0,0],starloc[0,1],s=45,color='red')"
   ]
  },
  {
   "cell_type": "markdown",
   "metadata": {},
   "source": [
    "<a id=\"resources_ID\"></a>\n",
    "## Additional Resources\n",
    "[TESScut API Documentation](https://mast.stsci.edu/tesscut/)<br>\n",
    "[Astrocut Documentation](https://astrocut.readthedocs.io/en/latest/)<br>\n",
    "[TESS Homepage](https://archive.stsci.edu/tess)\n"
   ]
  },
  {
   "cell_type": "markdown",
   "metadata": {},
   "source": [
    "<a id=\"about_ID\"></a>\n",
    "## About this Notebook\n",
    "**Author:** Susan E. Mullally, STScI Archive Scientist\n",
    "<br>**Updated On:** 2018-11-13"
   ]
  },
  {
   "cell_type": "markdown",
   "metadata": {},
   "source": [
    "[Top of Page](#title_ID)\n",
    "<img style=\"float: right;\" src=\"./stsci_pri_combo_mark_horizonal_white_bkgd.png\" alt=\"stsci_pri_combo_mark_horizonal_white_bkgd\" width=\"200px\"/> "
   ]
  }
 ],
 "metadata": {
  "kernelspec": {
   "display_name": "Python 3",
   "language": "python",
   "name": "python3"
  },
  "language_info": {
   "codemirror_mode": {
    "name": "ipython",
    "version": 3
   },
   "file_extension": ".py",
   "mimetype": "text/x-python",
   "name": "python",
   "nbconvert_exporter": "python",
   "pygments_lexer": "ipython3",
   "version": "3.6.1"
  }
 },
 "nbformat": 4,
 "nbformat_minor": 2
}
