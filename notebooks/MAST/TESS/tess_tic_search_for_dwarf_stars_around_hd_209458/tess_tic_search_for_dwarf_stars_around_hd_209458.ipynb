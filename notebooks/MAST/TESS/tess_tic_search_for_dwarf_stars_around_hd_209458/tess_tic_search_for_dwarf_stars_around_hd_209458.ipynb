{
 "cells": [
  {
   "cell_type": "markdown",
   "metadata": {},
   "source": [
    "## Query TESS Input Catalog for Dwarf Stars around the star HD 209458\n",
    "This tutorial demonstrates how to do a cone search around the location of a known star (HD 209458) in the TESS Input Catalog and then filter those results to only dwarf stars.  \n",
    "\n",
    "This tutorial uses Python and the astroquery module (astroquery-0.3.9.dev0). At the time of writing this requires installing the \"bleeding edge\" version of astroquery with pip. Information on how to install astroquery for MAST can be found on the [Astroquery site](http://astroquery.readthedocs.io/en/latest/mast/mast.html#). \n",
    "This tutorial demonstrates the following skills.\n",
    "\n",
    "* Astroquery Catalog Cone Search\n",
    "* Filtering the Resulting Table\n",
    "* Finding the TIC ID that is closest to the requested star"
   ]
  },
  {
   "cell_type": "markdown",
   "metadata": {},
   "source": [
    "# Setup\n",
    "We start by importing the required python modules and setting variables with the star name and radius of our query in degrees."
   ]
  },
  {
   "cell_type": "code",
   "execution_count": null,
   "metadata": {},
   "outputs": [],
   "source": [
    "from astroquery.mast import Catalogs\n",
    "\n",
    "star_name = \"HD 209458\"\n",
    "radius_deg = .2"
   ]
  },
  {
   "cell_type": "markdown",
   "metadata": {},
   "source": [
    "# Astroquery Catalog Cone Search\n",
    "Use the Catalogs query_object to do a cone search on the star and return the rows form the TIC catalog.  The numbers of returned rows are printed below."
   ]
  },
  {
   "cell_type": "code",
   "execution_count": null,
   "metadata": {},
   "outputs": [],
   "source": [
    "catalogTIC = Catalogs.query_object(star_name, radius=radius_deg, catalog=\"TIC\")\n",
    "\n",
    "print(\"Number of Stars in the TIC within %f deg of %s: %u\" % (radius_deg, star_name,len(catalogTIC)))\n"
   ]
  },
  {
   "cell_type": "markdown",
   "metadata": {},
   "source": [
    "# Select Dwarf Stars\n",
    "Make a cut on the resulting table for those with a luminosity class of 'DWARF'.  We will do this by creating a python list of True/False indicating when the luminosity class column is set to DWARF. We then print out the number of dwarf stars in our table and print out the first 12 rows of the table."
   ]
  },
  {
   "cell_type": "code",
   "execution_count": null,
   "metadata": {},
   "outputs": [],
   "source": [
    "dwarfs=catalogTIC['lumclass']=='DWARF'\n",
    "print(\"Number of Dwarf stars within %f deg of %s: %u\" % (radius_deg, star_name,len(catalogTIC[dwarfs])))\n",
    "catalogTIC_dwarf=catalogTIC[dwarfs]\n",
    "catalogTIC_dwarf[:12]"
   ]
  },
  {
   "cell_type": "markdown",
   "metadata": {},
   "source": [
    "# Get Closest TIC ID\n",
    "Retrieve the star in the TESS Input Catalog that is closest to the requested position. The table produced by the astroquery request is sorted by the column \"dstArcSec\".  This column gives the distance in arc seconds from the requested position and is added by the MAST at the time of the request. "
   ]
  },
  {
   "cell_type": "code",
   "execution_count": null,
   "metadata": {},
   "outputs": [],
   "source": [
    "ticID = catalogTIC[0]['ID']\n",
    "pos=\"%f %f\" % (catalogTIC[0][\"ra\"],catalogTIC[0][\"dec\"])\n",
    "\n",
    "print(\"TIC ID of %s: %s\"% (star_name,ticID))\n",
    "print(\"RA and Dec: %s\" % pos)"
   ]
  },
  {
   "cell_type": "code",
   "execution_count": null,
   "metadata": {},
   "outputs": [],
   "source": []
  }
 ],
 "metadata": {
  "kernelspec": {
   "display_name": "Python 3",
   "language": "python",
   "name": "python3"
  },
  "language_info": {
   "codemirror_mode": {
    "name": "ipython",
    "version": 3
   },
   "file_extension": ".py",
   "mimetype": "text/x-python",
   "name": "python",
   "nbconvert_exporter": "python",
   "pygments_lexer": "ipython3",
   "version": "3.6.4"
  }
 },
 "nbformat": 4,
 "nbformat_minor": 2
}
